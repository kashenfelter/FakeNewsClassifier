{
 "worksheets": [
  {
   "cells": [
    {
     "cell_type": "code",
     "execution_count": null,
     "metadata": {},
     "outputs": [
      {
       "stream": "stdout",
       "output_type": "stream",
       "text": [
        "/Users/williamferreira/PycharmProjects/mscproject/src\n"
       ]
      }
     ],
     "input": [
      "cd ../src"
     ],
     "language": "python",
     "prompt_number": 1
    },
    {
     "cell_type": "code",
     "execution_count": null,
     "metadata": {},
     "outputs": [],
     "input": [
      "from model.cross_validation import ClaimKFold\n",
      "from model.utils import get_dataset, split_data"
     ],
     "language": "python",
     "prompt_number": 2
    },
    {
     "cell_type": "code",
     "execution_count": null,
     "metadata": {},
     "outputs": [],
     "input": [
      "data = get_dataset('url-versions-2015-06-14-clean-train.csv')"
     ],
     "language": "python",
     "prompt_number": 3
    },
    {
     "cell_type": "code",
     "execution_count": null,
     "metadata": {},
     "outputs": [],
     "input": [
      "X, y = split_data(data)"
     ],
     "language": "python",
     "prompt_number": 4
    },
    {
     "cell_type": "code",
     "execution_count": null,
     "metadata": {},
     "outputs": [],
     "input": [
      "ckf = ClaimKFold(X, 10)"
     ],
     "language": "python",
     "prompt_number": 5
    },
    {
     "cell_type": "code",
     "execution_count": null,
     "metadata": {},
     "outputs": [],
     "input": [
      "folds = list(ckf)"
     ],
     "language": "python",
     "prompt_number": 6
    },
    {
     "cell_type": "code",
     "execution_count": null,
     "metadata": {},
     "outputs": [
      {
       "prompt_number": 14,
       "metadata": {},
       "output_type": "pyout",
       "text": [
        "[0, 0, 0, 0, 0, 0, 0, 0, 0, 0]"
       ]
      }
     ],
     "input": [
      "[len(set(X.iloc[f[0]].claimId).intersection(X.iloc[f[1]].claimId)) for f in folds]"
     ],
     "language": "python",
     "prompt_number": 14
    },
    {
     "cell_type": "code",
     "execution_count": null,
     "metadata": {},
     "outputs": [
      {
       "prompt_number": 11,
       "metadata": {},
       "output_type": "pyout",
       "text": [
        "240"
       ]
      }
     ],
     "input": [
      "len(set(X.claimId))"
     ],
     "language": "python",
     "prompt_number": 11
    },
    {
     "cell_type": "code",
     "execution_count": null,
     "metadata": {},
     "outputs": [],
     "input": [
      "from sklearn.cross_validation import StratifiedKFold, KFold"
     ],
     "language": "python",
     "prompt_number": 15
    },
    {
     "cell_type": "code",
     "execution_count": null,
     "metadata": {},
     "outputs": [],
     "input": [
      "skf = StratifiedKFold(y, 10, shuffle=True)"
     ],
     "language": "python",
     "prompt_number": 21
    },
    {
     "cell_type": "code",
     "execution_count": null,
     "metadata": {},
     "outputs": [
      {
       "prompt_number": 22,
       "metadata": {},
       "output_type": "pyout",
       "text": [
        "[121, 132, 125, 128, 123, 115, 126, 119, 124, 118]"
       ]
      }
     ],
     "input": [
      "[len(set(X.iloc[f[0]].claimId).intersection(X.iloc[f[1]].claimId)) for f in skf]"
     ],
     "language": "python",
     "prompt_number": 22
    },
    {
     "cell_type": "code",
     "execution_count": null,
     "metadata": {},
     "outputs": [],
     "input": [
      "kf = KFold(len(y), 10, shuffle=True)"
     ],
     "language": "python",
     "prompt_number": 23
    },
    {
     "cell_type": "code",
     "execution_count": null,
     "metadata": {},
     "outputs": [
      {
       "prompt_number": 24,
       "metadata": {},
       "output_type": "pyout",
       "text": [
        "[118, 123, 119, 122, 124, 116, 122, 131, 120, 134]"
       ]
      }
     ],
     "input": [
      "[len(set(X.iloc[f[0]].claimId).intersection(X.iloc[f[1]].claimId)) for f in kf]"
     ],
     "language": "python",
     "prompt_number": 24
    },
    {
     "cell_type": "code",
     "execution_count": null,
     "metadata": {},
     "outputs": [],
     "input": [
      "data_test = get_dataset('url-versions-2015-06-14-clean-test.csv')"
     ],
     "language": "python",
     "prompt_number": 25
    },
    {
     "cell_type": "code",
     "execution_count": null,
     "metadata": {},
     "outputs": [
      {
       "prompt_number": 28,
       "metadata": {},
       "output_type": "pyout",
       "text": [
        "0"
       ]
      }
     ],
     "input": [
      "len(set(data.claimId).intersection(data_test.claimId))"
     ],
     "language": "python",
     "prompt_number": 28
    },
    {
     "cell_type": "code",
     "execution_count": null,
     "metadata": {},
     "outputs": [],
     "input": [
      ""
     ],
     "language": "python"
    }
   ]
  }
 ],
 "cells": [],
 "metadata": {
  "name": "",
  "signature": "sha256:85942e2f657f012b451cb6f364916ab74092667b157591bd458fcd7f06a416b9"
 },
 "nbformat": 4,
 "nbformat_minor": 0
}